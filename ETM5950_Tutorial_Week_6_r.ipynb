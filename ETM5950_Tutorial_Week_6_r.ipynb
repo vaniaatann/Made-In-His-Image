{
  "nbformat": 4,
  "nbformat_minor": 0,
  "metadata": {
    "colab": {
      "name": "ETM5950_Tutorial Week 6_r.ipynb",
      "provenance": [],
      "include_colab_link": true
    },
    "kernelspec": {
      "name": "ir",
      "display_name": "R"
    },
    "language_info": {
      "name": "R"
    }
  },
  "cells": [
    {
      "cell_type": "markdown",
      "metadata": {
        "id": "view-in-github",
        "colab_type": "text"
      },
      "source": [
        "<a href=\"https://colab.research.google.com/github/vaniaatann/Made-In-His-Image/blob/master/ETM5950_Tutorial_Week_6_r.ipynb\" target=\"_parent\"><img src=\"https://colab.research.google.com/assets/colab-badge.svg\" alt=\"Open In Colab\"/></a>"
      ]
    },
    {
      "cell_type": "markdown",
      "metadata": {
        "id": "mFRwEogu6UXt"
      },
      "source": [
        "**Read me** https://datahub.io/five-thirty-eight/avengers"
      ]
    },
    {
      "cell_type": "markdown",
      "metadata": {
        "id": "v-UPXof45ZIW"
      },
      "source": [
        "**Load the tidyverse library and read the data**"
      ]
    },
    {
      "cell_type": "code",
      "metadata": {
        "colab": {
          "base_uri": "https://localhost:8080/"
        },
        "id": "hSKrYFU25Fxz",
        "outputId": "c68e2fe9-dd5e-4170-da66-b7b55702fa46"
      },
      "source": [
        "install.packages(\"tidyverse\")\n",
        "library(tidyverse)\n",
        "data_url <- \"https://github.com/fivethirtyeight/data/raw/master/avengers/avengers.csv\"\n",
        "avengers <- read_csv(data_url)"
      ],
      "execution_count": 2,
      "outputs": [
        {
          "output_type": "stream",
          "text": [
            "Installing package into ‘/usr/local/lib/R/site-library’\n",
            "(as ‘lib’ is unspecified)\n",
            "\n",
            "\n",
            "\u001b[36m──\u001b[39m \u001b[1m\u001b[1mColumn specification\u001b[1m\u001b[22m \u001b[36m────────────────────────────────────────────────────────\u001b[39m\n",
            "cols(\n",
            "  .default = col_character(),\n",
            "  Appearances = \u001b[32mcol_double()\u001b[39m,\n",
            "  Year = \u001b[32mcol_double()\u001b[39m,\n",
            "  `Years since joining` = \u001b[32mcol_double()\u001b[39m\n",
            ")\n",
            "\u001b[36mℹ\u001b[39m Use \u001b[30m\u001b[47m\u001b[30m\u001b[47m`spec()`\u001b[47m\u001b[30m\u001b[49m\u001b[39m for the full column specifications.\n",
            "\n",
            "\n"
          ],
          "name": "stderr"
        }
      ]
    },
    {
      "cell_type": "code",
      "metadata": {
        "id": "yrMqaqr05uW-"
      },
      "source": [
        "# To view the first 6 rows\n",
        "head(avengers)"
      ],
      "execution_count": null,
      "outputs": []
    },
    {
      "cell_type": "code",
      "metadata": {
        "id": "w7StAIkP585Q"
      },
      "source": [
        "# To view the last 6 rows\n",
        "tail(avengers)"
      ],
      "execution_count": null,
      "outputs": []
    },
    {
      "cell_type": "code",
      "metadata": {
        "id": "6LaVtAPg6xe8"
      },
      "source": [
        "# To view the whole dataset\n",
        "avengers"
      ],
      "execution_count": null,
      "outputs": []
    },
    {
      "cell_type": "code",
      "metadata": {
        "colab": {
          "base_uri": "https://localhost:8080/"
        },
        "id": "1vo-ltAf7iax",
        "outputId": "8fcb8127-d591-4217-8250-891d4be81f65"
      },
      "source": [
        "# To view every column in a data frame\n",
        "glimpse(avengers)"
      ],
      "execution_count": 17,
      "outputs": [
        {
          "output_type": "stream",
          "text": [
            "Rows: 173\n",
            "Columns: 21\n",
            "$ URL                           \u001b[3m\u001b[90m<chr>\u001b[39m\u001b[23m \"http://marvel.wikia.com/Henry_Pym_(Eart…\n",
            "$ `Name/Alias`                  \u001b[3m\u001b[90m<chr>\u001b[39m\u001b[23m \"Henry Jonathan \\\"Hank\\\" Pym\", \"Janet va…\n",
            "$ Appearances                   \u001b[3m\u001b[90m<dbl>\u001b[39m\u001b[23m 1269, 1165, 3068, 2089, 2402, 612, 3458,…\n",
            "$ `Current?`                    \u001b[3m\u001b[90m<chr>\u001b[39m\u001b[23m \"YES\", \"YES\", \"YES\", \"YES\", \"YES\", \"YES\"…\n",
            "$ Gender                        \u001b[3m\u001b[90m<chr>\u001b[39m\u001b[23m \"MALE\", \"FEMALE\", \"MALE\", \"MALE\", \"MALE\"…\n",
            "$ `Probationary Introl`         \u001b[3m\u001b[90m<chr>\u001b[39m\u001b[23m NA, NA, NA, NA, NA, NA, NA, NA, NA, NA, …\n",
            "$ `Full/Reserve Avengers Intro` \u001b[3m\u001b[90m<chr>\u001b[39m\u001b[23m \"Sep-63\", \"Sep-63\", \"Sep-63\", \"Sep-63\", …\n",
            "$ Year                          \u001b[3m\u001b[90m<dbl>\u001b[39m\u001b[23m 1963, 1963, 1963, 1963, 1963, 1963, 1964…\n",
            "$ `Years since joining`         \u001b[3m\u001b[90m<dbl>\u001b[39m\u001b[23m 52, 52, 52, 52, 52, 52, 51, 50, 50, 50, …\n",
            "$ Honorary                      \u001b[3m\u001b[90m<chr>\u001b[39m\u001b[23m \"Full\", \"Full\", \"Full\", \"Full\", \"Full\", …\n",
            "$ Death1                        \u001b[3m\u001b[90m<chr>\u001b[39m\u001b[23m \"YES\", \"YES\", \"YES\", \"YES\", \"YES\", \"NO\",…\n",
            "$ Return1                       \u001b[3m\u001b[90m<chr>\u001b[39m\u001b[23m \"NO\", \"YES\", \"YES\", \"YES\", \"YES\", NA, \"Y…\n",
            "$ Death2                        \u001b[3m\u001b[90m<chr>\u001b[39m\u001b[23m NA, NA, NA, NA, \"YES\", NA, NA, \"YES\", NA…\n",
            "$ Return2                       \u001b[3m\u001b[90m<chr>\u001b[39m\u001b[23m NA, NA, NA, NA, \"NO\", NA, NA, \"YES\", NA,…\n",
            "$ Death3                        \u001b[3m\u001b[90m<chr>\u001b[39m\u001b[23m NA, NA, NA, NA, NA, NA, NA, NA, NA, NA, …\n",
            "$ Return3                       \u001b[3m\u001b[90m<chr>\u001b[39m\u001b[23m NA, NA, NA, NA, NA, NA, NA, NA, NA, NA, …\n",
            "$ Death4                        \u001b[3m\u001b[90m<chr>\u001b[39m\u001b[23m NA, NA, NA, NA, NA, NA, NA, NA, NA, NA, …\n",
            "$ Return4                       \u001b[3m\u001b[90m<chr>\u001b[39m\u001b[23m NA, NA, NA, NA, NA, NA, NA, NA, NA, NA, …\n",
            "$ Death5                        \u001b[3m\u001b[90m<chr>\u001b[39m\u001b[23m NA, NA, NA, NA, NA, NA, NA, NA, NA, NA, …\n",
            "$ Return5                       \u001b[3m\u001b[90m<chr>\u001b[39m\u001b[23m NA, NA, NA, NA, NA, NA, NA, NA, NA, NA, …\n",
            "$ Notes                         \u001b[3m\u001b[90m<chr>\u001b[39m\u001b[23m \"Merged with Ultron in Rage of Ultron Vo…\n"
          ],
          "name": "stdout"
        }
      ]
    },
    {
      "cell_type": "code",
      "metadata": {
        "id": "PayelPIk8HvC"
      },
      "source": [
        "# To produce summaries of variables \n",
        "summary(avengers)"
      ],
      "execution_count": null,
      "outputs": []
    },
    {
      "cell_type": "markdown",
      "metadata": {
        "id": "6LiOkeugBLM2"
      },
      "source": [
        "**Visualize data using basic built-in R functions**"
      ]
    },
    {
      "cell_type": "code",
      "metadata": {
        "id": "87yYBs4K87PN"
      },
      "source": [
        "# To create histogram\n",
        "hist(avengers$Appearances)"
      ],
      "execution_count": null,
      "outputs": []
    },
    {
      "cell_type": "code",
      "metadata": {
        "id": "Q3EZWeQWBBL1"
      },
      "source": [
        "# To create histogram\n",
        "hist(avengers$`Years since joining`)"
      ],
      "execution_count": null,
      "outputs": []
    },
    {
      "cell_type": "code",
      "metadata": {
        "id": "DSwGp8V2BcdM"
      },
      "source": [
        "# To access the variables in the data framework without calling the data frame \n",
        "attach(avengers)\n",
        "hist(`Years since joining`)"
      ],
      "execution_count": null,
      "outputs": []
    },
    {
      "cell_type": "code",
      "metadata": {
        "id": "OJ4tMYUo8tC1"
      },
      "source": [
        "# To access the variables in the data framework without calling the data frame\n",
        "attach(avengers)\n",
        "hist(Appearances)"
      ],
      "execution_count": null,
      "outputs": []
    },
    {
      "cell_type": "code",
      "metadata": {
        "id": "XvOoiPl19RgG"
      },
      "source": [
        "# To create barchart\n",
        "barplot(avengers$Appearances) #no need avengers"
      ],
      "execution_count": null,
      "outputs": []
    },
    {
      "cell_type": "code",
      "metadata": {
        "id": "fmN4g4U19m6x"
      },
      "source": [
        "# To create barchart with titles, color \n",
        "barplot(Appearances, main=\"(edited) Barplot of Appearance\", ylab = \"(e) The number of comic books that character appeared\", xlab=\"(e) cases\", col = \"orange\") #can try playign around with it"
      ],
      "execution_count": null,
      "outputs": []
    },
    {
      "cell_type": "code",
      "metadata": {
        "id": "7-U4Pd0t_Fon"
      },
      "source": [
        "# To create scatter plot\n",
        "plot(Appearances)"
      ],
      "execution_count": null,
      "outputs": []
    },
    {
      "cell_type": "code",
      "metadata": {
        "id": "N07bjZ9o_LV-"
      },
      "source": [
        "# point characters\n",
        "plot(1:20, 1:20, pch=1:19) #pch= point character"
      ],
      "execution_count": null,
      "outputs": []
    },
    {
      "cell_type": "code",
      "metadata": {
        "id": "UPkpoeqG9Zc8"
      },
      "source": [
        "# To create scatter plot\n",
        "plot(Appearances, main=\"to create scatterplot\", col = \"blue\", pch = 18)"
      ],
      "execution_count": null,
      "outputs": []
    },
    {
      "cell_type": "markdown",
      "metadata": {
        "id": "MV_CSZQtBaMr"
      },
      "source": [
        "**Visualize data meaningfully using plot() and ggplot**"
      ]
    },
    {
      "cell_type": "code",
      "metadata": {
        "colab": {
          "base_uri": "https://localhost:8080/"
        },
        "id": "PwpFCcR2BH-V",
        "outputId": "f40cb0e9-0a32-4b81-d387-2ae97f2eb98f"
      },
      "source": [
        "install.packages(\"ggplot2\")  # Must install ggplot2 if wish to use ggplot() \n",
        "#ggplot2 is like the CD, we use the open bracket to read the CD.\n",
        "#when you call the library its like you double licking your app in your desktop\n",
        "#Install CD --> start the CD\n",
        "library(ggplot2)"
      ],
      "execution_count": null,
      "outputs": [
        {
          "output_type": "stream",
          "text": [
            "Installing package into ‘/usr/local/lib/R/site-library’\n",
            "(as ‘lib’ is unspecified)\n",
            "\n"
          ],
          "name": "stderr"
        }
      ]
    },
    {
      "cell_type": "code",
      "metadata": {
        "id": "SN2m8zKJBuaL"
      },
      "source": [
        "# To bar chart using plot()\n",
        "#gender is male and female-->  non numerical --> Machines cannot plot barcharts\n",
        "counts <- table(Gender)       # To create a vector of counts for Gender\n",
        "#can use \"glimpse(counts)\" to check\"\n",
        "#make it a good principle: do one thing at a time, new command each line\n",
        "#put table in front of Gender\n",
        "barplot(counts, \n",
        "   main =\"Avengers by Gender\", \n",
        "   horiz = FALSE) #if you make TRUE it became reversed"
      ],
      "execution_count": null,
      "outputs": []
    },
    {
      "cell_type": "code",
      "metadata": {
        "id": "2UCkFcD0C7RG"
      },
      "source": [
        "# To create bar chart using ggplot()\n",
        "ggplot(avengers, aes(x= Gender, y=Appearances)) + #aesthetic\n",
        "   geom_bar(stat =\"identity\") #identity= the data abstraction"
      ],
      "execution_count": null,
      "outputs": []
    },
    {
      "cell_type": "code",
      "metadata": {
        "id": "SG8wgt61DVrs"
      },
      "source": [
        "# To create boxplot using ggplot()\n",
        "ggplot(avengers, aes(x=Gender, y =  Appearances)) +\n",
        "  geom_boxplot()"
      ],
      "execution_count": null,
      "outputs": []
    },
    {
      "cell_type": "code",
      "metadata": {
        "colab": {
          "base_uri": "https://localhost:8080/",
          "height": 437
        },
        "id": "dR1b6G6KD7fZ",
        "outputId": "2286cd7b-f87b-40bd-c657-abef9fae8541"
      },
      "source": [
        "# To create scatterplot using plot()\n",
        "plot(Year, Appearances,\n",
        "     main = \"Avengers' appearances against years\",\n",
        "     xlab = \"Years\",\n",
        "     ylab = \"Frequency of appearances\")"
      ],
      "execution_count": null,
      "outputs": [
        {
          "output_type": "display_data",
          "data": {
            "image/png": "[encoded data removed]",
            "text/plain": [
              "Plot with title “Avengers' appearances against years”"
            ]
          },
          "metadata": {
            "tags": [],
            "image/png": {
              "width": 420,
              "height": 420
            }
          }
        }
      ]
    },
    {
      "cell_type": "code",
      "metadata": {
        "colab": {
          "base_uri": "https://localhost:8080/",
          "height": 437
        },
        "id": "YHG2RtOPEjAx",
        "outputId": "6dd0f006-a517-40eb-cfc9-a3bdb8ef0527"
      },
      "source": [
        "# To create scatterplot using ggplot()\n",
        "ggplot(avengers, aes(x=Year, y =  Appearances)) + \n",
        "     geom_point() #geometry point"
      ],
      "execution_count": null,
      "outputs": [
        {
          "output_type": "display_data",
          "data": {
            "image/png": "[encoded data removed]",
            "text/plain": [
              "plot without title"
            ]
          },
          "metadata": {
            "tags": [],
            "image/png": {
              "width": 420,
              "height": 420
            }
          }
        }
      ]
    }
  ]
}